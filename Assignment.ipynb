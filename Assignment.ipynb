{
 "cells": [
  {
   "cell_type": "code",
   "execution_count": 1,
   "id": "64c55235-c9c7-46cc-9bf7-011c70cc36e9",
   "metadata": {},
   "outputs": [
    {
     "data": {
      "text/plain": [
       "['freedom_fighter', 'Mohan', 'dash', 'karam', 'chandra', 'gandhi', 'Bapu']"
      ]
     },
     "execution_count": 1,
     "metadata": {},
     "output_type": "execute_result"
    }
   ],
   "source": [
    "#1.3a)\n",
    "name=[\"Mohan\",\"dash\",\"karam\",\"chandra\",\"gandhi\",\"Bapu\"]\n",
    "name.insert(0,\"freedom_fighter\")\n",
    "name"
   ]
  },
  {
   "cell_type": "code",
   "execution_count": null,
   "id": "b45f183f-8b90-46ec-a172-5c2bc1814c2d",
   "metadata": {},
   "outputs": [],
   "source": [
    "#1.3b)\n",
    "1.\tThe given list is name = [\"freedomFighter\", \"Bapuji\", \"Mohan\", \"dash\", \"karam\", \"Chandra\", \"gandhi\"].\n",
    "2.\tWe have two variables: \n",
    "o\tlength1, which calculates the length of a sliced portion of the list: name[-len(name)+1:-1:2].\n",
    "o\tlength2, which calculates the length of another sliced portion of the list: name[-len(name)+1:-1].\n",
    "3.\tThe slicing operation name[-len(name)+1:-1:2] extracts every second element from the list, starting from the second-to-last element (index -1) and moving towards the first element.\n",
    "4.\tThe slicing operation name[-len(name)+1:-1] extracts all elements from the second-to-last element (index -1) up to the first element.\n",
    "5.\tFinally, we print the sum of length1 and length2.\n",
    "Let’s calculate the lengths:\n",
    "•\tlength1: The sliced portion is [\"Bapuji\", \"dash\", \"Chandra\"], so its length is 3.\n",
    "•\tlength2: The sliced portion is [\"Bapuji\", \"Mohan\", \"dash\", \"karam\", \"Chandra\"], so its length is 5.\n",
    "The output will be the sum of these lengths: \n",
    "3 + 5 = 8\n",
    "Therefore, the answer is 8. \n"
   ]
  },
  {
   "cell_type": "code",
   "execution_count": 4,
   "id": "05256d6f-b919-4fe1-bbaf-b31d13839a9d",
   "metadata": {},
   "outputs": [
    {
     "data": {
      "text/plain": [
       "['freedom_fighter',\n",
       " 'Mohan',\n",
       " 'dash',\n",
       " 'karam',\n",
       " 'chandra',\n",
       " 'gandhi',\n",
       " 'Bapu',\n",
       " 'NetaJi',\n",
       " 'Bose']"
      ]
     },
     "execution_count": 4,
     "metadata": {},
     "output_type": "execute_result"
    }
   ],
   "source": [
    "#1.3c)\n",
    "name.extend([\"NetaJi\",\"Bose\"])\n",
    "name"
   ]
  },
  {
   "cell_type": "code",
   "execution_count": 1,
   "id": "85c61046-f1dc-4598-bce5-0dcd6b1c3f1e",
   "metadata": {},
   "outputs": [],
   "source": [
    "#1.3)d)\n",
    "The value of temp is Bapuji.\n",
    "\n"
   ]
  },
  {
   "cell_type": "code",
   "execution_count": null,
   "id": "47cb0484-a28d-44ac-957b-b0fd554a8df6",
   "metadata": {},
   "outputs": [],
   "source": [
    "#1.4)\n",
    "The output will be-\n",
    "2\n",
    "4\n",
    "7\n"
   ]
  },
  {
   "cell_type": "code",
   "execution_count": 2,
   "id": "57ef1c43-47c2-4862-bb76-8aead885b1d5",
   "metadata": {},
   "outputs": [
    {
     "name": "stdout",
     "output_type": "stream",
     "text": [
      "8\n"
     ]
    }
   ],
   "source": [
    "#1.5)a)\n",
    "tuple1 = (10, 20, \"Apple\", 3.4, 'a', [\"master\", \"ji\"], (\"sita\", \"geeta\",22), [{\"roll_no\": 1}, {\"name\": \"Navneet\"}])\n",
    "print(len(tuple1))\n"
   ]
  },
  {
   "cell_type": "code",
   "execution_count": 7,
   "id": "f51c574b-4c3e-419b-a878-7e18f4186d8d",
   "metadata": {},
   "outputs": [
    {
     "name": "stdout",
     "output_type": "stream",
     "text": [
      "Navneet\n"
     ]
    }
   ],
   "source": [
    "#1.5)b)\n",
    "print(tuple1[-1][-1]['name'])\n"
   ]
  },
  {
   "cell_type": "code",
   "execution_count": 14,
   "id": "7da443a9-bb68-42af-a998-f12ff3798859",
   "metadata": {},
   "outputs": [
    {
     "name": "stdout",
     "output_type": "stream",
     "text": [
      "1\n"
     ]
    }
   ],
   "source": [
    "#1.5)c)\n",
    "roll_no_value = tuple1[-1][0]['roll_no']\n",
    "print(roll_no_value)\n"
   ]
  },
  {
   "cell_type": "code",
   "execution_count": 10,
   "id": "e3f51ea1-8b93-44d6-b20a-78d4b350acb4",
   "metadata": {},
   "outputs": [
    {
     "name": "stdout",
     "output_type": "stream",
     "text": [
      "ji\n"
     ]
    }
   ],
   "source": [
    "#1.5)d)\n",
    "print(tuple1[-3][1])"
   ]
  },
  {
   "cell_type": "code",
   "execution_count": 11,
   "id": "0b753a43-5e71-4adb-9d98-7eed0403d04f",
   "metadata": {},
   "outputs": [
    {
     "name": "stdout",
     "output_type": "stream",
     "text": [
      "22\n"
     ]
    }
   ],
   "source": [
    "#1.5)e)\n",
    "print(tuple1[-2][2])"
   ]
  },
  {
   "cell_type": "code",
   "execution_count": 1,
   "id": "145772df-6740-4db1-bca5-9bc41b655a4b",
   "metadata": {},
   "outputs": [
    {
     "name": "stdin",
     "output_type": "stream",
     "text": [
      "Enter the traffic signal color (red, yellow, green):  red\n"
     ]
    },
    {
     "name": "stdout",
     "output_type": "stream",
     "text": [
      "STOP\n"
     ]
    }
   ],
   "source": [
    "#1.6)\n",
    "def display_signal_message(signal_color):\n",
    "    if signal_color == \"red\":\n",
    "        return \"STOP\"\n",
    "    elif signal_color == \"yellow\":\n",
    "        return \"STAY\"\n",
    "    elif signal_color == \"green\":\n",
    "        return \"GO\"\n",
    "    else:\n",
    "        return \"Invalid signal color\"\n",
    "\n",
    "    signal_color = input(\"Enter the traffic signal color (red, yellow, green): \").lower()\n",
    "\n",
    "message = display_signal_message(signal_color)\n",
    "print(message)\n"
   ]
  },
  {
   "cell_type": "code",
   "execution_count": 3,
   "id": "5f7f71ff-cc2f-4ff3-8c4d-0305f47c1b09",
   "metadata": {},
   "outputs": [
    {
     "name": "stdout",
     "output_type": "stream",
     "text": [
      "Simple Calculator\n",
      "Select operation:\n",
      "1. Addition\n",
      "2. Subtraction\n",
      "3. Multiplication\n",
      "4. Division\n"
     ]
    },
    {
     "name": "stdin",
     "output_type": "stream",
     "text": [
      "Enter choice (1/2/3/4):  4\n",
      "Enter first number:  10\n",
      "Enter second number:  2\n"
     ]
    },
    {
     "name": "stdout",
     "output_type": "stream",
     "text": [
      "The result is: 5.0\n"
     ]
    }
   ],
   "source": [
    "#1.7)\n",
    "def add(a, b):\n",
    "    return a + b\n",
    "\n",
    "def subtract(a, b):\n",
    "    return a - b\n",
    "\n",
    "def multiply(a, b):\n",
    "    return a * b\n",
    "\n",
    "def divide(a, b):\n",
    "    if b != 0:\n",
    "        return a / b\n",
    "    else:\n",
    "        return \"Error: Division by zero\"\n",
    "\n",
    "def main():\n",
    "    print(\"Simple Calculator\")\n",
    "    print(\"Select operation:\")\n",
    "    print(\"1. Addition\")\n",
    "    print(\"2. Subtraction\")\n",
    "    print(\"3. Multiplication\")\n",
    "    print(\"4. Division\")\n",
    "\n",
    "    choice = input(\"Enter choice (1/2/3/4): \")\n",
    "\n",
    "    if choice in ['1', '2', '3', '4']:\n",
    "        num1 = float(input(\"Enter first number: \"))\n",
    "        num2 = float(input(\"Enter second number: \"))\n",
    "\n",
    "        if choice == '1':\n",
    "            print(f\"The result is: {add(num1, num2)}\")\n",
    "        elif choice == '2':\n",
    "            print(f\"The result is: {subtract(num1, num2)}\")\n",
    "        elif choice == '3':\n",
    "            print(f\"The result is: {multiply(num1, num2)}\")\n",
    "        elif choice == '4':\n",
    "            print(f\"The result is: {divide(num1, num2)}\")\n",
    "    else:\n",
    "        print(\"Invalid input\")\n",
    "\n",
    "if __name__ == \"__main__\":\n",
    "    main()\n"
   ]
  },
  {
   "cell_type": "code",
   "execution_count": 4,
   "id": "5d7eb2d2-9b55-49dd-a71a-01ef9cc2427c",
   "metadata": {},
   "outputs": [
    {
     "name": "stdout",
     "output_type": "stream",
     "text": [
      "The largest number among 10, 20, and 15 is 20\n"
     ]
    }
   ],
   "source": [
    "#1.8)\n",
    "a = 10\n",
    "b = 20\n",
    "c = 15\n",
    "\n",
    "largest = a if (a > b and a > c) else (b if b > c else c)\n",
    "\n",
    "print(f\"The largest number among {a}, {b}, and {c} is {largest}\")\n"
   ]
  },
  {
   "cell_type": "code",
   "execution_count": 5,
   "id": "561388a2-cc13-4dc3-807d-bf8336ad5902",
   "metadata": {},
   "outputs": [
    {
     "name": "stdin",
     "output_type": "stream",
     "text": [
      "Enter a whole number:  34\n"
     ]
    },
    {
     "name": "stdout",
     "output_type": "stream",
     "text": [
      "The factors of 34 are: [1, 2, 17, 34]\n"
     ]
    }
   ],
   "source": [
    "#1.9)\n",
    "def find_factors(n):\n",
    "    factors = []\n",
    "    i = 1\n",
    "    while i <= n:\n",
    "        if n % i == 0:\n",
    "            factors.append(i)\n",
    "        i += 1\n",
    "    return factors\n",
    "number = int(input(\"Enter a whole number: \"))\n",
    "print(f\"The factors of {number} are: {find_factors(number)}\")\n"
   ]
  },
  {
   "cell_type": "code",
   "execution_count": 4,
   "id": "898a98fe-e993-4a3a-993b-105a260efa9a",
   "metadata": {},
   "outputs": [
    {
     "name": "stdin",
     "output_type": "stream",
     "text": [
      "Enter a number:  -3\n"
     ]
    },
    {
     "name": "stdout",
     "output_type": "stream",
     "text": [
      "The sum of all positive numbers entered is: 0\n"
     ]
    }
   ],
   "source": [
    "#1.10)\n",
    "def sum_positive_numbers():\n",
    "    total = 0\n",
    "\n",
    "    while True:\n",
    "        try:\n",
    "            number = float(input(\"Enter a number: \"))\n",
    "            \n",
    "            if number < 0:\n",
    "                break\n",
    "                \n",
    "            total += number\n",
    "        except ValueError:\n",
    "            print(\"Invalid input. Please enter a valid number.\")\n",
    "\n",
    "    print(f\"The sum of all positive numbers entered is: {total}\")\n",
    "\n",
    "\n",
    "sum_positive_numbers()\n"
   ]
  },
  {
   "cell_type": "code",
   "execution_count": 7,
   "id": "b8a498e6-014d-4371-a2bf-95c691f7ac9b",
   "metadata": {},
   "outputs": [
    {
     "name": "stdout",
     "output_type": "stream",
     "text": [
      "2\n",
      "3\n",
      "5\n",
      "7\n",
      "11\n",
      "13\n",
      "17\n",
      "19\n",
      "23\n",
      "29\n",
      "31\n",
      "37\n",
      "41\n",
      "43\n",
      "47\n",
      "53\n",
      "59\n",
      "61\n",
      "67\n",
      "71\n",
      "73\n",
      "79\n",
      "83\n",
      "89\n",
      "97\n"
     ]
    }
   ],
   "source": [
    "#1.11)\n",
    "for num in range(2, 101): \n",
    "    is_prime = True\n",
    "    \n",
    "    for i in range(2, num):  \n",
    "        if num % i == 0: \n",
    "            is_prime = False  \n",
    "            break \n",
    "    \n",
    "    if is_prime: \n",
    "        print(num)  "
   ]
  },
  {
   "cell_type": "code",
   "execution_count": 8,
   "id": "9386edae-87e2-418b-9b62-6164674086d4",
   "metadata": {},
   "outputs": [
    {
     "name": "stdin",
     "output_type": "stream",
     "text": [
      "Enter marks for subject 1:  89\n",
      "Enter marks for subject 2:  67\n",
      "Enter marks for subject 3:  56\n",
      "Enter marks for subject 4:  90\n",
      "Enter marks for subject 5:  87\n"
     ]
    },
    {
     "name": "stdout",
     "output_type": "stream",
     "text": [
      "Total marks: 389.0\n",
      "Percentage: 77.80%\n",
      "Grade: B\n"
     ]
    }
   ],
   "source": [
    "#1.12)\n",
    "subject1 = float(input(\"Enter marks for subject 1: \"))\n",
    "subject2 = float(input(\"Enter marks for subject 2: \"))\n",
    "subject3 = float(input(\"Enter marks for subject 3: \"))\n",
    "subject4 = float(input(\"Enter marks for subject 4: \"))\n",
    "subject5 = float(input(\"Enter marks for subject 5: \"))\n",
    "\n",
    "\n",
    "total_marks = subject1 + subject2 + subject3 + subject4 + subject5\n",
    "\n",
    "num_subjects = 5\n",
    "percentage = (total_marks / (num_subjects * 100)) * 100\n",
    "\n",
    "if percentage >= 85:\n",
    "    grade = \"A\"\n",
    "elif 75 <= percentage < 85:\n",
    "    grade = \"B\"\n",
    "elif 50 <= percentage < 75:\n",
    "    grade = \"C\"\n",
    "elif 30 <= percentage < 50:\n",
    "    grade = \"D\"\n",
    "else:\n",
    "    grade = \"Reappear\"\n",
    "\n",
    "print(f\"Total marks: {total_marks}\")\n",
    "print(f\"Percentage: {percentage:.2f}%\")\n",
    "print(f\"Grade: {grade}\")\n",
    "\n"
   ]
  },
  {
   "cell_type": "code",
   "execution_count": 9,
   "id": "8172a73a-8501-44c3-ad3b-cf991bb81a8b",
   "metadata": {},
   "outputs": [
    {
     "name": "stdin",
     "output_type": "stream",
     "text": [
      "Enter the wavelength in nm:  600\n"
     ]
    },
    {
     "name": "stdout",
     "output_type": "stream",
     "text": [
      "The color corresponding to 600.0 nm is Orange.\n"
     ]
    }
   ],
   "source": [
    "#1.13)\n",
    "wavelength_input = float(input(\"Enter the wavelength in nm: \"))\n",
    "\n",
    "if 400 <= wavelength_input <= 440:\n",
    "    color = \"Violet\"\n",
    "elif 440 < wavelength_input <= 460:\n",
    "    color = \"Indigo\"\n",
    "elif 460 < wavelength_input <= 500:\n",
    "    color = \"Blue\"\n",
    "elif 500 < wavelength_input <= 570:\n",
    "    color = \"Green\"\n",
    "elif 570 < wavelength_input <= 590:\n",
    "    color = \"Yellow\"\n",
    "elif 590 < wavelength_input <= 620:\n",
    "    color = \"Orange\"\n",
    "elif 620 < wavelength_input <= 720:\n",
    "    color = \"Red\"\n",
    "else:\n",
    "    color = \"Wavelength out of visible spectrum range\"\n",
    "\n",
    "print(f\"The color corresponding to {wavelength_input} nm is {color}.\")\n"
   ]
  },
  {
   "cell_type": "code",
   "execution_count": 10,
   "id": "e85e0419-2c46-4701-9114-01e25aae35b3",
   "metadata": {},
   "outputs": [
    {
     "name": "stdout",
     "output_type": "stream",
     "text": [
      "Gravitational force between Earth and Sun: 3.54e+22 N\n",
      "Gravitational force between Moon and Earth: 1.98e+20 N\n",
      "The stronger gravitational force is Earth-Sun.\n"
     ]
    }
   ],
   "source": [
    "#1.14)\n",
    "# Given data\n",
    "mass_earth = 5.972e24  \n",
    "mass_moon = 7.34767309e22  \n",
    "mass_sun = 1.989e30 \n",
    "distance_sun_earth = 1.496e11  \n",
    "distance_moon_earth = 3.844e8  \n",
    "\n",
    "# Gravitational constant (N(m/kg)^2)\n",
    "G = 6.67430e-11\n",
    "\n",
    "# Calculate gravitational forces\n",
    "force_earth_sun = G * (mass_earth * mass_sun) / distance_sun_earth**2\n",
    "force_moon_earth = G * (mass_moon * mass_earth) / distance_moon_earth**2\n",
    "\n",
    "# Compare forces\n",
    "if force_earth_sun > force_moon_earth:\n",
    "    stronger_force = \"Earth-Sun\"\n",
    "else:\n",
    "    stronger_force = \"Moon-Earth\"\n",
    "\n",
    "print(f\"Gravitational force between Earth and Sun: {force_earth_sun:.2e} N\")\n",
    "print(f\"Gravitational force between Moon and Earth: {force_moon_earth:.2e} N\")\n",
    "print(f\"The stronger gravitational force is {stronger_force}.\")\n"
   ]
  },
  {
   "cell_type": "code",
   "execution_count": 11,
   "id": "26143097-e608-4b6a-9743-de418cf55fc7",
   "metadata": {},
   "outputs": [
    {
     "name": "stdout",
     "output_type": "stream",
     "text": [
      "Name: Alice\n",
      "Age: 20\n",
      "Roll Number: A123\n",
      "Name: Alice\n",
      "Age: 21\n",
      "Roll Number: A124\n"
     ]
    }
   ],
   "source": [
    "#2)\n",
    "class Student:\n",
    "    def __init__(self, name, age, roll_number):\n",
    "        self._name = name\n",
    "        self._age = age\n",
    "        self._roll_number = roll_number\n",
    "\n",
    "    # Getter methods\n",
    "    def get_name(self):\n",
    "        return self._name\n",
    "\n",
    "    def get_age(self):\n",
    "        return self._age\n",
    "\n",
    "    def get_roll_number(self):\n",
    "        return self._roll_number\n",
    "\n",
    "    # Setter methods\n",
    "    def set_name(self, name):\n",
    "        self._name = name\n",
    "\n",
    "    def set_age(self, age):\n",
    "        self._age = age\n",
    "\n",
    "    def set_roll_number(self, roll_number):\n",
    "        self._roll_number = roll_number\n",
    "\n",
    "    # Display student information\n",
    "    def display_info(self):\n",
    "        print(f\"Name: {self._name}\")\n",
    "        print(f\"Age: {self._age}\")\n",
    "        print(f\"Roll Number: {self._roll_number}\")\n",
    "\n",
    "# Example usage\n",
    "student1 = Student(\"Alice\", 20, \"A123\")\n",
    "student1.display_info()\n",
    "\n",
    "student1.set_age(21)\n",
    "student1.set_roll_number(\"A124\")\n",
    "student1.display_info()\n"
   ]
  },
  {
   "cell_type": "code",
   "execution_count": 12,
   "id": "34818fc2-49c1-4dc8-a5f6-c2e93c45227a",
   "metadata": {},
   "outputs": [
    {
     "name": "stdout",
     "output_type": "stream",
     "text": [
      "Python Basics is borrowed.\n",
      "Python Basics is returned.\n"
     ]
    }
   ],
   "source": [
    "#3)\n",
    "class LibraryBook:\n",
    "    def __init__(self, book_name, author):\n",
    "        self._book_name = book_name\n",
    "        self._author = author\n",
    "        self._available = True\n",
    "\n",
    "    # Getter methods\n",
    "    def get_book_name(self):\n",
    "        return self._book_name\n",
    "\n",
    "    def get_author(self):\n",
    "        return self._author\n",
    "\n",
    "    def is_available(self):\n",
    "        return self._available\n",
    "\n",
    "    # Setter method for availability\n",
    "    def set_availability(self, available):\n",
    "        self._available = available\n",
    "\n",
    "    # Borrow book\n",
    "    def borrow(self):\n",
    "        if self._available:\n",
    "            print(f\"{self._book_name} is borrowed.\")\n",
    "            self._available = False\n",
    "        else:\n",
    "            print(f\"{self._book_name} is already borrowed.\")\n",
    "\n",
    "    # Return book\n",
    "    def return_book(self):\n",
    "        if not self._available:\n",
    "            print(f\"{self._book_name} is returned.\")\n",
    "            self._available = True\n",
    "        else:\n",
    "            print(f\"{self._book_name} was not borrowed.\")\n",
    "\n",
    "# Example usage\n",
    "book1 = LibraryBook(\"Python Basics\", \"John Doe\")\n",
    "book1.borrow()\n",
    "book1.return_book()\n"
   ]
  },
  {
   "cell_type": "code",
   "execution_count": 14,
   "id": "1a1765e2-eeeb-49dd-b97c-681e628e1e4e",
   "metadata": {},
   "outputs": [
    {
     "name": "stdout",
     "output_type": "stream",
     "text": [
      "Deposited $200. New balance: $1200.00\n",
      "Deposited $24.0. New balance: $1224.00\n",
      "Interest added: $24.00\n",
      "Insufficient funds.\n",
      "Withdrew $300. New balance: $200.00\n"
     ]
    }
   ],
   "source": [
    "#4)\n",
    "class BankAccount:\n",
    "    def __init__(self, account_number, balance=0):\n",
    "        self._account_number = account_number\n",
    "        self._balance = balance\n",
    "\n",
    "    def deposit(self, amount):\n",
    "        self._balance += amount\n",
    "        print(f\"Deposited ${amount}. New balance: ${self._balance:.2f}\")\n",
    "\n",
    "    def withdraw(self, amount):\n",
    "        if self._balance >= amount:\n",
    "            self._balance -= amount\n",
    "            print(f\"Withdrew ${amount}. New balance: ${self._balance:.2f}\")\n",
    "        else:\n",
    "            print(\"Insufficient funds.\")\n",
    "\n",
    "    def get_balance(self):\n",
    "        return self._balance\n",
    "\n",
    "class SavingsAccount(BankAccount):\n",
    "    def __init__(self, account_number, balance=0, interest_rate=0.02):\n",
    "        super().__init__(account_number, balance)\n",
    "        self._interest_rate = interest_rate\n",
    "\n",
    "    def add_interest(self):\n",
    "        interest = self._balance * self._interest_rate\n",
    "        self.deposit(interest)\n",
    "        print(f\"Interest added: ${interest:.2f}\")\n",
    "\n",
    "class CheckingAccount(BankAccount):\n",
    "    def __init__(self, account_number, balance=0, overdraft_limit=100):\n",
    "        super().__init__(account_number, balance)\n",
    "        self._overdraft_limit = overdraft_limit\n",
    "\n",
    "    def withdraw(self, amount):\n",
    "        if self._balance + self._overdraft_limit >= amount:\n",
    "            super().withdraw(amount)\n",
    "        else:\n",
    "            print(\"Exceeds overdraft limit.\")\n",
    "\n",
    "# Example usage\n",
    "savings = SavingsAccount(\"SA123\", balance=1000)\n",
    "savings.deposit(200)\n",
    "savings.add_interest()\n",
    "\n",
    "checking = CheckingAccount(\"CA456\", balance=500, overdraft_limit=200)\n",
    "checking.withdraw(700)\n",
    "checking.withdraw(300)\n"
   ]
  },
  {
   "cell_type": "code",
   "execution_count": 13,
   "id": "d2a04ed3-3617-4000-a7b8-3847b3df09ec",
   "metadata": {},
   "outputs": [
    {
     "name": "stdout",
     "output_type": "stream",
     "text": [
      "Dog says: Woof!\n",
      "Cat says: Meow!\n"
     ]
    }
   ],
   "source": [
    "#5)\n",
    "class Animal:\n",
    "    def make_sound(self):\n",
    "        pass  # Placeholder method\n",
    "\n",
    "class Dog(Animal):\n",
    "    def make_sound(self):\n",
    "        return \"Woof!\"\n",
    "\n",
    "class Cat(Animal):\n",
    "    def make_sound(self):\n",
    "        return \"Meow!\"\n",
    "\n",
    "# Example usage\n",
    "dog = Dog()\n",
    "cat = Cat()\n",
    "\n",
    "print(f\"Dog says: {dog.make_sound()}\")\n",
    "print(f\"Cat says: {cat.make_sound()}\")\n"
   ]
  },
  {
   "cell_type": "code",
   "execution_count": 15,
   "id": "972353ad-6ebe-43df-b89c-f11b5bd3ac14",
   "metadata": {},
   "outputs": [
    {
     "name": "stdout",
     "output_type": "stream",
     "text": [
      "Added Margherita Pizza to the menu.\n",
      "Cooking Margherita Pizza (Italian).\n",
      "Added Espresso to the menu.\n",
      "Pouring Espresso (Small).\n"
     ]
    }
   ],
   "source": [
    "#6)\n",
    "class MenuItem:\n",
    "    def __init__(self, name, description, price, category):\n",
    "        self._name = name\n",
    "        self._description = description\n",
    "        self._price = price\n",
    "        self._category = category\n",
    "\n",
    "    def add_item(self):\n",
    "        print(f\"Added {self._name} to the menu.\")\n",
    "\n",
    "    def update_item(self, new_description, new_price):\n",
    "        self._description = new_description\n",
    "        self._price = new_price\n",
    "        print(f\"Updated {self._name} details.\")\n",
    "\n",
    "    def remove_item(self):\n",
    "        print(f\"Removed {self._name} from the menu.\")\n",
    "\n",
    "class FoodItem(MenuItem):\n",
    "    def __init__(self, name, description, price, category, cuisine_type):\n",
    "        super().__init__(name, description, price, category)\n",
    "        self._cuisine_type = cuisine_type\n",
    "\n",
    "    def cook(self):\n",
    "        print(f\"Cooking {self._name} ({self._cuisine_type}).\")\n",
    "\n",
    "class BeverageItem(MenuItem):\n",
    "    def __init__(self, name, description, price, category, serving_size):\n",
    "        super().__init__(name, description, price, category)\n",
    "        self._serving_size = serving_size\n",
    "\n",
    "    def pour(self):\n",
    "        print(f\"Pouring {self._name} ({self._serving_size}).\")\n",
    "        \n",
    "pizza = FoodItem(\"Margherita Pizza\", \"Classic tomato and mozzarella\", 12.99, \"Main Course\", \"Italian\")\n",
    "coffee = BeverageItem(\"Espresso\", \"Strong black coffee\", 3.49, \"Beverage\", \"Small\")\n",
    "\n",
    "pizza.add_item()\n",
    "pizza.cook()\n",
    "\n",
    "coffee.add_item()\n",
    "coffee.pour()\n"
   ]
  },
  {
   "cell_type": "code",
   "execution_count": 16,
   "id": "1603e152-ddbb-40f3-b8c5-4117dcee910b",
   "metadata": {},
   "outputs": [
    {
     "name": "stdout",
     "output_type": "stream",
     "text": [
      "Room 101 is booked.\n",
      "Suite 101 amenities: Jacuzzi, Balcony\n",
      "Guest Alice checked in to Room 201.\n",
      "Standard Room 201 has 2 beds.\n",
      "Guest Alice checked out from Room 201.\n"
     ]
    }
   ],
   "source": [
    "#7)\n",
    "class Room:\n",
    "    def __init__(self, room_number, room_type, rate):\n",
    "        self._room_number = room_number\n",
    "        self._room_type = room_type\n",
    "        self._rate = rate\n",
    "        self._available = True\n",
    "\n",
    "    def book_room(self):\n",
    "        if self._available:\n",
    "            print(f\"Room {self._room_number} is booked.\")\n",
    "            self._available = False\n",
    "        else:\n",
    "            print(f\"Room {self._room_number} is already booked.\")\n",
    "\n",
    "    def check_in(self, guest_name):\n",
    "        print(f\"Guest {guest_name} checked in to Room {self._room_number}.\")\n",
    "\n",
    "    def check_out(self, guest_name):\n",
    "        print(f\"Guest {guest_name} checked out from Room {self._room_number}.\")\n",
    "        self._available = True\n",
    "\n",
    "class SuiteRoom(Room):\n",
    "    def __init__(self, room_number, rate, amenities):\n",
    "        super().__init__(room_number, \"Suite\", rate)\n",
    "        self._amenities = amenities\n",
    "\n",
    "    def display_amenities(self):\n",
    "        print(f\"Suite {self._room_number} amenities: {', '.join(self._amenities)}\")\n",
    "\n",
    "class StandardRoom(Room):\n",
    "    def __init__(self, room_number, rate, bed_count):\n",
    "        super().__init__(room_number, \"Standard\", rate)\n",
    "        self._bed_count = bed_count\n",
    "\n",
    "    def display_bed_count(self):\n",
    "        print(f\"Standard Room {self._room_number} has {self._bed_count} beds.\")\n",
    "\n",
    "# Example usage\n",
    "suite = SuiteRoom(101, 200, [\"Jacuzzi\", \"Balcony\"])\n",
    "suite.book_room()\n",
    "suite.display_amenities()\n",
    "\n",
    "standard = StandardRoom(201, 100, 2)\n",
    "standard.check_in(\"Alice\")\n",
    "standard.display_bed_count()\n",
    "standard.check_out(\"Alice\")\n"
   ]
  },
  {
   "cell_type": "code",
   "execution_count": 18,
   "id": "af3fb575-ce5c-4d2d-95f6-168d19f77aa6",
   "metadata": {},
   "outputs": [
    {
     "name": "stdout",
     "output_type": "stream",
     "text": [
      "Registered John as a Family member.\n",
      "John's family size: 4\n",
      "Emma's membership renewed.\n",
      "Emma's fitness goals: Weight loss\n"
     ]
    }
   ],
   "source": [
    "#8)\n",
    "class Member:\n",
    "    def __init__(self, name, age, membership_type):\n",
    "        self._name = name\n",
    "        self._age = age\n",
    "        self._membership_type = membership_type\n",
    "        self._membership_status = True  # Initially active\n",
    "\n",
    "    def register_member(self):\n",
    "        print(f\"Registered {self._name} as a {self._membership_type} member.\")\n",
    "\n",
    "    def renew_membership(self):\n",
    "        print(f\"{self._name}'s membership renewed.\")\n",
    "     \n",
    "\n",
    "    def cancel_membership(self):\n",
    "        print(f\"{self._name}'s membership canceled.\")\n",
    "        \n",
    "\n",
    "class FamilyMember(Member):\n",
    "    def __init__(self, name, age, membership_type, family_size):\n",
    "        super().__init__(name, age, membership_type)\n",
    "        self._family_size = family_size\n",
    "\n",
    "    def display_family_size(self):\n",
    "        print(f\"{self._name}'s family size: {self._family_size}\")\n",
    "\n",
    "class IndividualMember(Member):\n",
    "    def __init__(self, name, age, membership_type, fitness_goals):\n",
    "        super().__init__(name, age, membership_type)\n",
    "        self._fitness_goals = fitness_goals\n",
    "\n",
    "    def display_fitness_goals(self):\n",
    "        print(f\"{self._name}'s fitness goals: {self._fitness_goals}\")\n",
    "\n",
    "# Example usage\n",
    "john = FamilyMember(\"John\", 35, \"Family\", 4)\n",
    "john.register_member()\n",
    "john.display_family_size()\n",
    "\n",
    "emma = IndividualMember(\"Emma\", 28, \"Individual\", \"Weight loss\")\n",
    "emma.renew_membership()\n",
    "emma.display_fitness_goals()\n",
    "\n"
   ]
  },
  {
   "cell_type": "code",
   "execution_count": 19,
   "id": "2a546723-6bf3-4557-a9c7-1f19b33def34",
   "metadata": {},
   "outputs": [
    {
     "name": "stdout",
     "output_type": "stream",
     "text": [
      "Event 'Private Party' created on 2023-06-15 at 19:00 in Villa XYZ.\n",
      "Alice added to the attendee list.\n",
      "Access code for Private Party: SECRET123\n",
      "Event 'Tech Conference' created on 2023-07-20 at 09:00 in Convention Center.\n",
      "Bob added to the attendee list.\n",
      "Total attendees: 1\n"
     ]
    }
   ],
   "source": [
    "#9)\n",
    "class Event:\n",
    "    def __init__(self, name, date, time, location):\n",
    "        self._name = name\n",
    "        self._date = date\n",
    "        self._time = time\n",
    "        self._location = location\n",
    "        self._attendees = [] \n",
    "\n",
    "    def create_event(self):\n",
    "        print(f\"Event '{self._name}' created on {self._date} at {self._time} in {self._location}.\")\n",
    "\n",
    "    def add_attendee(self, attendee):\n",
    "        self._attendees.append(attendee)\n",
    "        print(f\"{attendee} added to the attendee list.\")\n",
    "\n",
    "    def remove_attendee(self, attendee):\n",
    "        if attendee in self._attendees:\n",
    "            self._attendees.remove(attendee)\n",
    "            print(f\"{attendee} removed from the attendee list.\")\n",
    "        else:\n",
    "            print(f\"{attendee} is not registered for this event.\")\n",
    "\n",
    "    def get_total_attendees(self):\n",
    "        return len(self._attendees)\n",
    "\n",
    "class PrivateEvent(Event):\n",
    "    def __init__(self, name, date, time, location, access_code):\n",
    "        super().__init__(name, date, time, location)\n",
    "        self._access_code = access_code\n",
    "\n",
    "    def display_access_code(self):\n",
    "        print(f\"Access code for {self._name}: {self._access_code}\")\n",
    "\n",
    "class PublicEvent(Event):\n",
    "    def __init__(self, name, date, time, location, max_capacity):\n",
    "        super().__init__(name, date, time, location)\n",
    "        self._max_capacity = max_capacity\n",
    "\n",
    "    def is_full(self):\n",
    "        return len(self._attendees) >= self._max_capacity\n",
    "\n",
    "# Example usage\n",
    "private_party = PrivateEvent(\"Private Party\", \"2023-06-15\", \"19:00\", \"Villa XYZ\", \"SECRET123\")\n",
    "private_party.create_event()\n",
    "private_party.add_attendee(\"Alice\")\n",
    "private_party.display_access_code()\n",
    "\n",
    "conference = PublicEvent(\"Tech Conference\", \"2023-07-20\", \"09:00\", \"Convention Center\", 200)\n",
    "conference.create_event()\n",
    "conference.add_attendee(\"Bob\")\n",
    "print(f\"Total attendees: {conference.get_total_attendees()}\")\n"
   ]
  },
  {
   "cell_type": "code",
   "execution_count": 20,
   "id": "35fd03e4-dd87-446c-9331-7016274380be",
   "metadata": {},
   "outputs": [
    {
     "name": "stdout",
     "output_type": "stream",
     "text": [
      "Seat booked successfully.\n",
      "Baggage allowance for Flight DF101: 20 kg\n",
      "No reservations to cancel.\n",
      "Visa is required for Flight IF201.\n"
     ]
    }
   ],
   "source": [
    "#10)\n",
    "class Flight:\n",
    "    def __init__(self, flight_number, departure_airport, arrival_airport, departure_time, arrival_time):\n",
    "        self._flight_number = flight_number\n",
    "        self._departure_airport = departure_airport\n",
    "        self._arrival_airport = arrival_airport\n",
    "        self._departure_time = departure_time\n",
    "        self._arrival_time = arrival_time\n",
    "        self._available_seats = 100  # Assuming a maximum of 100 seats\n",
    "\n",
    "    def book_seat(self):\n",
    "        if self._available_seats > 0:\n",
    "            self._available_seats -= 1\n",
    "            print(\"Seat booked successfully.\")\n",
    "        else:\n",
    "            print(\"No available seats.\")\n",
    "\n",
    "    def cancel_reservation(self):\n",
    "        if self._available_seats < 100:\n",
    "            self._available_seats += 1\n",
    "            print(\"Reservation canceled.\")\n",
    "        else:\n",
    "            print(\"No reservations to cancel.\")\n",
    "\n",
    "    def get_remaining_seats(self):\n",
    "        return self._available_seats\n",
    "\n",
    "class DomesticFlight(Flight):\n",
    "    def __init__(self, flight_number, departure_airport, arrival_airport, departure_time, arrival_time, baggage_allowance):\n",
    "        super().__init__(flight_number, departure_airport, arrival_airport, departure_time, arrival_time)\n",
    "        self._baggage_allowance = baggage_allowance\n",
    "\n",
    "    def display_baggage_allowance(self):\n",
    "        print(f\"Baggage allowance for Flight {self._flight_number}: {self._baggage_allowance} kg\")\n",
    "\n",
    "class InternationalFlight(Flight):\n",
    "    def __init__(self, flight_number, departure_airport, arrival_airport, departure_time, arrival_time, visa_required):\n",
    "        super().__init__(flight_number, departure_airport, arrival_airport, departure_time, arrival_time)\n",
    "        self._visa_required = visa_required\n",
    "\n",
    "    def check_visa_requirements(self):\n",
    "        if self._visa_required:\n",
    "            print(f\"Visa is required for Flight {self._flight_number}.\")\n",
    "        else:\n",
    "            print(f\"No visa required for Flight {self._flight_number}.\")\n",
    "\n",
    "# Example usage\n",
    "domestic_flight = DomesticFlight(\"DF101\", \"JFK\", \"LAX\", \"10:00\", \"14:00\", 20)\n",
    "domestic_flight.book_seat()\n",
    "domestic_flight.display_baggage_allowance()\n",
    "\n",
    "intl_flight = InternationalFlight(\"IF201\", \"LHR\", \"JFK\", \"15:00\", \"20:00\", True)\n",
    "intl_flight.cancel_reservation()\n",
    "intl_flight.check_visa_requirements()\n"
   ]
  },
  {
   "cell_type": "code",
   "execution_count": 21,
   "id": "c65b6803-d8bc-48d9-aa77-146a0e384400",
   "metadata": {},
   "outputs": [],
   "source": [
    "#11)\n",
    "# constants.py\n",
    "\n",
    "# Mathematical constants\n",
    "pi = 3.141592653589793\n",
    "\n",
    "# Physical constants\n",
    "speed_of_light = 299792458  # in meters per second\n",
    "\n",
    "\n"
   ]
  },
  {
   "cell_type": "code",
   "execution_count": 22,
   "id": "1a9aea80-c644-4f51-bfb7-44326f0a0235",
   "metadata": {},
   "outputs": [],
   "source": [
    "#12)\n",
    "# calculator.py\n",
    "\n",
    "def add(a, b):\n",
    "    \"\"\"Return the sum of a and b.\"\"\"\n",
    "    return a + b\n",
    "\n",
    "def subtract(a, b):\n",
    "    \"\"\"Return the difference of a and b.\"\"\"\n",
    "    return a - b\n",
    "\n",
    "def multiply(a, b):\n",
    "    \"\"\"Return the product of a and b.\"\"\"\n",
    "    return a * b\n",
    "\n",
    "def divide(a, b):\n",
    "    \"\"\"Return the division of a by b. Raise an error if b is zero.\"\"\"\n",
    "    if b == 0:\n",
    "        raise ValueError(\"Cannot divide by zero\")\n",
    "    return a / b\n"
   ]
  },
  {
   "cell_type": "code",
   "execution_count": 23,
   "id": "d06c565e-a8d8-41a7-9e92-bb31ee5bfcf2",
   "metadata": {},
   "outputs": [],
   "source": [
    "#14)\n",
    "# string_utils.py\n",
    "\n",
    "def reverse_string(s):\n",
    "    \"\"\"Return the reverse of the given string.\"\"\"\n",
    "    return s[::-1]\n",
    "\n",
    "def capitalize_string(s):\n",
    "    \"\"\"Return the string with the first character capitalized and the rest lowercased.\"\"\"\n",
    "    return s.capitalize()\n"
   ]
  },
  {
   "cell_type": "code",
   "execution_count": 24,
   "id": "420d72b8-ff2d-422a-8e41-1275786e7f31",
   "metadata": {},
   "outputs": [],
   "source": [
    "#15)\n",
    "# file_operations.py\n",
    "\n",
    "def read_file(file_path):\n",
    "    \"\"\"Read the contents of a file and return them as a string.\"\"\"\n",
    "    try:\n",
    "        with open(file_path, 'r') as file:\n",
    "            return file.read()\n",
    "    except FileNotFoundError:\n",
    "        return f\"File {file_path} not found.\"\n",
    "    except Exception as e:\n",
    "        return f\"An error occurred: {e}\"\n",
    "\n",
    "def write_file(file_path, data):\n",
    "    \"\"\"Write data to a file. Overwrite if the file already exists.\"\"\"\n",
    "    try:\n",
    "        with open(file_path, 'w') as file:\n",
    "            file.write(data)\n",
    "    except Exception as e:\n",
    "        return f\"An error occurred: {e}\"\n",
    "\n",
    "def append_to_file(file_path, data):\n",
    "    \"\"\"Append data to a file. Create the file if it does not exist.\"\"\"\n",
    "    try:\n",
    "        with open(file_path, 'a') as file:\n",
    "            file.write(data)\n",
    "    except Exception as e:\n",
    "        return f\"An error occurred: {e}\"\n"
   ]
  },
  {
   "cell_type": "code",
   "execution_count": 25,
   "id": "26d5b085-c787-4654-b918-66a8fdf1018b",
   "metadata": {},
   "outputs": [],
   "source": [
    "#16)\n",
    "# employee_writer.py\n",
    "\n",
    "def write_employee_details(file_path, employees):\n",
    "    \"\"\"Write employee details to a file.\"\"\"\n",
    "    try:\n",
    "        with open(file_path, 'w') as file:\n",
    "            file.write(\"Name, Age, Salary\\n\")\n",
    "            for employee in employees:\n",
    "                file.write(f\"{employee['name']}, {employee['age']}, {employee['salary']}\\n\")\n",
    "        print(f\"Employee details have been written to {file_path}\")\n",
    "    except Exception as e:\n",
    "        print(f\"An error occurred: {e}\")\n",
    "\n",
    "employees = [\n",
    "    {\"name\": \"Alice\", \"age\": 30, \"salary\": 70000},\n",
    "    {\"name\": \"Bob\", \"age\": 25, \"salary\": 50000},\n",
    "    {\"name\": \"Charlie\", \"age\": 28, \"salary\": 60000},\n",
    "]\n",
    "\n",
    "file_path = 'employees.txt'\n",
    "write_employee_details(file_path, employees)\n"
   ]
  },
  {
   "cell_type": "code",
   "execution_count": 26,
   "id": "bda1e2e8-e66e-4203-849f-9629e2dee026",
   "metadata": {},
   "outputs": [],
   "source": [
    "#17)\n",
    "# read_inventory.py\n",
    "\n",
    "def read_and_display_file(file_path):\n",
    "    \"\"\"Read and display the contents of a file line by line.\"\"\"\n",
    "    try:\n",
    "        with open(file_path, 'r') as file:\n",
    "            for line in file:\n",
    "                print(line, end='')  # end='' to avoid adding extra newline characters\n",
    "    except FileNotFoundError:\n",
    "        print(f\"File {file_path} not found.\")\n",
    "    except Exception as e:\n",
    "        print(f\"An error occurred: {e}\")\n",
    "\n",
    "# File path\n",
    "file_path = 'inventory.txt'\n",
    "\n",
    "read_and_display_file(file_path)\n"
   ]
  },
  {
   "cell_type": "code",
   "execution_count": 27,
   "id": "90f48964-9560-4cc9-ae1c-d3d959539363",
   "metadata": {},
   "outputs": [],
   "source": [
    "#18)\n",
    "# calculate_expenses.py\n",
    "\n",
    "def calculate_total_expenses(file_path):\n",
    "    \"\"\"Read a file of expenses and calculate the total amount spent.\"\"\"\n",
    "    total_expenses = 0.0\n",
    "    try:\n",
    "        with open(file_path, 'r') as file:\n",
    "            for line in file:\n",
    "                # Split the line by comma and strip any extra whitespace\n",
    "                parts = line.strip().split(',')\n",
    "                if len(parts) == 2:\n",
    "                    expense = parts[1].strip()\n",
    "                    try:\n",
    "                        # Convert the expense amount to a float and add to the total\n",
    "                        total_expenses += float(expense)\n",
    "                    except ValueError:\n",
    "                        print(f\"Invalid expense amount: {expense}\")\n",
    "                else:\n",
    "                    print(f\"Invalid line format: {line.strip()}\")\n",
    "    except FileNotFoundError:\n",
    "        print(f\"File {file_path} not found.\")\n",
    "    except Exception as e:\n",
    "        print(f\"An error occurred: {e}\")\n",
    "    \n",
    "    return total_expenses\n",
    "\n",
    "# File path\n",
    "file_path = 'expenses.txt'\n",
    "\n",
    "\n",
    "total = calculate_total_expenses(file_path)\n",
    "print(f\"Total expenses: ${total:.2f}\")\n"
   ]
  },
  {
   "cell_type": "code",
   "execution_count": null,
   "id": "db604dbe-95bb-4fb8-83be-b7455c8fbcd8",
   "metadata": {},
   "outputs": [],
   "source": [
    "#19)\n",
    "# word_count.py\n",
    "\n",
    "import re\n",
    "from collections import defaultdict\n",
    "\n",
    "def count_word_occurrences(file_path):\n",
    "    \"\"\"Read a file and count the occurrences of each word in alphabetical order.\"\"\"\n",
    "    word_counts = defaultdict(int)\n",
    "    \n",
    "    try:\n",
    "        with open(file_path, 'r') as file:\n",
    "            for line in file:\n",
    "                words = re.findall(r'\\b\\w+\\b', line.lower())\n",
    "                for word in words:\n",
    "                    word_counts[word] += 1\n",
    "        for word in sorted(word_counts):\n",
    "            print(f\"{word}: {word_counts[word]}\")\n",
    "    except FileNotFoundError:\n",
    "        print(f\"File {file_path} not found.\")\n",
    "    except Exception as e:\n",
    "        print(f\"An error occurred: {e}\")\n",
    "\n",
    "# File path\n",
    "file_path = 'paragraph.txt'\n",
    "\n",
    "# Count and display word occurrences\n",
    "count_word_occurrences(file_path)\n"
   ]
  }
 ],
 "metadata": {
  "kernelspec": {
   "display_name": "Python 3 (ipykernel)",
   "language": "python",
   "name": "python3"
  },
  "language_info": {
   "codemirror_mode": {
    "name": "ipython",
    "version": 3
   },
   "file_extension": ".py",
   "mimetype": "text/x-python",
   "name": "python",
   "nbconvert_exporter": "python",
   "pygments_lexer": "ipython3",
   "version": "3.10.8"
  }
 },
 "nbformat": 4,
 "nbformat_minor": 5
}
